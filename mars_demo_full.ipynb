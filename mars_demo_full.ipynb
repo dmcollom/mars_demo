{
 "cells": [
  {
   "cell_type": "markdown",
   "metadata": {},
   "source": [
    "All of these instructions are available in the TOM Toolkit [Getting Started guide](https://tomtoolkit.github.io/docs/getting_started)."
   ]
  },
  {
   "cell_type": "markdown",
   "metadata": {},
   "source": [
    "The following will set up our initial Django project with the necessary dependencies installed:"
   ]
  },
  {
   "cell_type": "code",
   "execution_count": null,
   "metadata": {},
   "outputs": [],
   "source": [
    "pip install numpy\n",
    "pip install dataclasses  # For Python 3.6 or earlier\n",
    "django-admin startproject tom_demo\n",
    "cd tom_demo\n",
    "python3 -m venv env/\n",
    "source env/bin/activate\n",
    "pip install tomtoolkit\n",
    "pip install jupyterlab"
   ]
  },
  {
   "cell_type": "markdown",
   "metadata": {},
   "source": [
    "Next, we need to update our `INSTALLED_APPS` in settings.py, which should be in tom_demo/tom_demo. Add `tom_setup` to the bottom of the list."
   ]
  },
  {
   "cell_type": "code",
   "execution_count": null,
   "metadata": {},
   "outputs": [],
   "source": [
    "INSTALLED_APPS = [\n",
    "    'django.contrib.admin',\n",
    "    'django.contrib.auth',\n",
    "    'django.contrib.contenttypes',\n",
    "    'django.contrib.sessions',\n",
    "    'django.contrib.messages',\n",
    "    'django.contrib.staticfiles',\n",
    "    'tom_setup',\n",
    "]"
   ]
  },
  {
   "cell_type": "markdown",
   "metadata": {},
   "source": [
    "Now we can run the setup script to install the TOM Toolkit with your preferred settings."
   ]
  },
  {
   "cell_type": "code",
   "execution_count": null,
   "metadata": {},
   "outputs": [],
   "source": [
    "./manage.py tom_setup"
   ]
  },
  {
   "cell_type": "markdown",
   "metadata": {},
   "source": [
    "Finally, just run the necessary database migrations:"
   ]
  },
  {
   "cell_type": "code",
   "execution_count": null,
   "metadata": {},
   "outputs": [],
   "source": [
    "./manage.py migrate"
   ]
  },
  {
   "cell_type": "markdown",
   "metadata": {},
   "source": [
    "At this point, you can run your sample TOM with `./manage.py runserver`. \n",
    "\n",
    "In a separate terminal, make sure you start your virtual environment and you can start your Jupyter notebook server as follows:"
   ]
  },
  {
   "cell_type": "code",
   "execution_count": null,
   "metadata": {},
   "outputs": [],
   "source": [
    "./manage.py shell_plus --notebook"
   ]
  },
  {
   "cell_type": "markdown",
   "metadata": {},
   "source": [
    "Now we can start to experiment with the MARS Broker class.\n",
    "\n",
    "First, we import the necessary TOM Toolkit classes:"
   ]
  },
  {
   "cell_type": "code",
   "execution_count": 10,
   "metadata": {},
   "outputs": [],
   "source": [
    "from tom_alerts.brokers.mars import MARSQueryForm, MARSBroker\n",
    "from tom_alerts.models import BrokerQuery"
   ]
  },
  {
   "cell_type": "markdown",
   "metadata": {},
   "source": [
    "We can instantiate the `MARSQueryForm` class with the desired parameters, and calling `is_valid()` ensures that our datatypes are consistent with what's specified in the form class. As you can see, we end up with a dictionary of our query parameters."
   ]
  },
  {
   "cell_type": "code",
   "execution_count": 20,
   "metadata": {},
   "outputs": [
    {
     "name": "stdout",
     "output_type": "stream",
     "text": [
      "{'time__gt': '', 'time__lt': '', 'time__since': 864000, 'jd__gt': None, 'jd__lt': None, 'filter': '', 'cone': '', 'objectcone': 'm101, 5', 'objectidps': '', 'ra__gt': None, 'ra__lt': None, 'dec__gt': None, 'dec__lt': None, 'l__gt': None, 'l__lt': None, 'b__gt': None, 'b__lt': None, 'magpsf__gte': None, 'magpsf__lte': None, 'sigmapsf__lte': None, 'magap__gte': None, 'magap__lte': None, 'distnr__gte': None, 'distnr__lte': None, 'deltamaglatest__gte': None, 'deltamaglatest__lte': None, 'deltamagref__gte': None, 'deltamagref__lte': None, 'rb__gte': 0.95, 'drb__gte': None, 'classtar__gte': None, 'classtar__lte': None, 'fwhm__lte': None}\n"
     ]
    }
   ],
   "source": [
    "mars_form = MARSQueryForm({\n",
    "    'time__since': 864000,\n",
    "    'objectcone': 'm101, 5',\n",
    "    'rb__gte': 0.95\n",
    "})\n",
    "mars_form.is_valid()\n",
    "print(mars_form.cleaned_data)"
   ]
  },
  {
   "cell_type": "markdown",
   "metadata": {},
   "source": [
    "Now, we can go ahead and run the query on MARS. With our `MARSQueryForm` instance, it's as simple as instantiating the `MARSBroker` and calling `fetch_alerts()` on the cleaned data."
   ]
  },
  {
   "cell_type": "code",
   "execution_count": 21,
   "metadata": {},
   "outputs": [
    {
     "name": "stdout",
     "output_type": "stream",
     "text": [
      "38\n"
     ]
    }
   ],
   "source": [
    "mars = MARSBroker()\n",
    "\n",
    "alerts = mars.fetch_alerts(mars_form.cleaned_data)\n",
    "\n",
    "print(sum(1 for _ in alerts))"
   ]
  },
  {
   "cell_type": "markdown",
   "metadata": {},
   "source": [
    "With the TOM Toolkit, we can also store our query in our TOM as a `BrokerQuery` object with just a few parameters--a name for the query, the name of the `MARSBroker`, and the query parameters."
   ]
  },
  {
   "cell_type": "code",
   "execution_count": 22,
   "metadata": {},
   "outputs": [],
   "source": [
    "query = BrokerQuery.objects.create(\n",
    "    name='Test Query',\n",
    "    broker=mars.name,\n",
    "    parameters=mars_form.serialize_parameters()\n",
    ")"
   ]
  },
  {
   "cell_type": "markdown",
   "metadata": {},
   "source": [
    "It's now trivial to simply get the query out of the database, and run it again on MARS:"
   ]
  },
  {
   "cell_type": "code",
   "execution_count": 23,
   "metadata": {},
   "outputs": [
    {
     "name": "stdout",
     "output_type": "stream",
     "text": [
      "38\n"
     ]
    }
   ],
   "source": [
    "query = BrokerQuery.objects.filter(name='Test Query', broker=mars.name)[0]\n",
    "\n",
    "alerts = mars.fetch_alerts(query.parameters_as_dict)\n",
    "print(sum(1 for _ in alerts))"
   ]
  },
  {
   "cell_type": "markdown",
   "metadata": {},
   "source": [
    "With the available alerts from a query, we can convert each of them to a TOM `Target` object and store them in our local TOM DB."
   ]
  },
  {
   "cell_type": "code",
   "execution_count": 24,
   "metadata": {},
   "outputs": [
    {
     "name": "stderr",
     "output_type": "stream",
     "text": [
      "Target post save hook: ZTF18aaigpcr created: True\n",
      "Target post save hook: ZTF18aarqemn created: True\n",
      "Target post save hook: ZTF18aaquezq created: True\n",
      "Target post save hook: ZTF18aalrabq created: True\n",
      "Target post save hook: ZTF18aajpaft created: True\n",
      "Target post save hook: ZTF18aauubtt created: True\n",
      "Target post save hook: ZTF19abovstj created: True\n",
      "Target post save hook: ZTF18aauuaje created: True\n",
      "Target post save hook: ZTF18aaigpcr created: True\n",
      "Target post save hook: ZTF18aaigpcr created: True\n",
      "Target post save hook: ZTF18aaigpcr created: True\n",
      "Target post save hook: ZTF18aaavyjj created: True\n",
      "Target post save hook: ZTF18aaigozk created: True\n",
      "Target post save hook: ZTF17aabxpjd created: True\n",
      "Target post save hook: ZTF18aarqemn created: True\n",
      "Target post save hook: ZTF18aajpoup created: True\n",
      "Target post save hook: ZTF18aakqmeq created: True\n",
      "Target post save hook: ZTF18aaitnkd created: True\n",
      "Target post save hook: ZTF18aalrabq created: True\n",
      "Target post save hook: ZTF18aaqczkb created: True\n",
      "Target post save hook: ZTF18aajozml created: True\n",
      "Target post save hook: ZTF17aackjuk created: True\n",
      "Target post save hook: ZTF18aaigpcr created: True\n",
      "Target post save hook: ZTF18aaigpcm created: True\n",
      "Target post save hook: ZTF18aaigpcm created: True\n",
      "Target post save hook: ZTF18aaxzxnk created: True\n",
      "Target post save hook: ZTF18aakebhi created: True\n",
      "Target post save hook: ZTF18aaieodr created: True\n",
      "Target post save hook: ZTF18aaieosc created: True\n",
      "Target post save hook: ZTF18aajpaeu created: True\n",
      "Target post save hook: ZTF18aaigpfi created: True\n",
      "Target post save hook: ZTF18aarqemn created: True\n",
      "Target post save hook: ZTF18aazjszr created: True\n",
      "Target post save hook: ZTF19abgkpca created: True\n",
      "Target post save hook: ZTF18aaquezq created: True\n",
      "Target post save hook: ZTF18aaitxau created: True\n",
      "Target post save hook: ZTF18aaigpcr created: True\n",
      "Target post save hook: ZTF18aaqczkb created: True\n"
     ]
    }
   ],
   "source": [
    "alerts = mars.fetch_alerts(query.parameters_as_dict)\n",
    "for alert in alerts:\n",
    "    mars.to_target(alert)"
   ]
  },
  {
   "cell_type": "markdown",
   "metadata": {},
   "source": [
    "And as expected, we now have as many `Target` objects in our TOM as we had alerts, which can be used for later reference."
   ]
  },
  {
   "cell_type": "code",
   "execution_count": 25,
   "metadata": {},
   "outputs": [
    {
     "name": "stdout",
     "output_type": "stream",
     "text": [
      "38\n"
     ]
    }
   ],
   "source": [
    "from tom_targets.models import Target\n",
    "\n",
    "print(len(Target.objects.all()))"
   ]
  }
 ],
 "metadata": {
  "kernelspec": {
   "display_name": "Django Shell-Plus",
   "language": "python",
   "name": "django_extensions"
  },
  "language_info": {
   "codemirror_mode": {
    "name": "ipython",
    "version": 3
   },
   "file_extension": ".py",
   "mimetype": "text/x-python",
   "name": "python",
   "nbconvert_exporter": "python",
   "pygments_lexer": "ipython3",
   "version": "3.7.4"
  }
 },
 "nbformat": 4,
 "nbformat_minor": 2
}
