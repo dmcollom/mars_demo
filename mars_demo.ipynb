{
 "cells": [
  {
   "cell_type": "markdown",
   "metadata": {},
   "source": [
    "First, we import the necessary TOM Toolkit classes:"
   ]
  },
  {
   "cell_type": "code",
   "execution_count": null,
   "metadata": {},
   "outputs": [],
   "source": [
    "from tom_alerts.brokers.mars import MARSQueryForm, MARSBroker\n",
    "from tom_alerts.models import BrokerQuery"
   ]
  },
  {
   "cell_type": "markdown",
   "metadata": {},
   "source": [
    "We can instantiate the `MARSQueryForm` class with the desired parameters, and calling `is_valid()` ensures that our datatypes are consistent with what's specified in the form class. As you can see, we end up with a dictionary of our query parameters."
   ]
  },
  {
   "cell_type": "code",
   "execution_count": null,
   "metadata": {},
   "outputs": [],
   "source": [
    "mars_form = MARSQueryForm({\n",
    "    'time__since': 864000,\n",
    "    'objectcone': 'm101, 5',\n",
    "    'rb__gte': 0.95\n",
    "})\n",
    "mars_form.is_valid()\n",
    "print(mars_form.cleaned_data)"
   ]
  },
  {
   "cell_type": "markdown",
   "metadata": {},
   "source": [
    "Now, we can go ahead and run the query on MARS. With our `MARSQueryForm` instance, it's as simple as instantiating the `MARSBroker` and calling `fetch_alerts()` on the cleaned data."
   ]
  },
  {
   "cell_type": "code",
   "execution_count": null,
   "metadata": {},
   "outputs": [],
   "source": [
    "mars = MARSBroker()\n",
    "\n",
    "alerts = mars.fetch_alerts(mars_form.cleaned_data)\n",
    "\n",
    "print(sum(1 for _ in alerts))"
   ]
  },
  {
   "cell_type": "markdown",
   "metadata": {},
   "source": [
    "With the TOM Toolkit, we can also store our query in our TOM as a `BrokerQuery` object with just a few parameters--a name for the query, the name of the `MARSBroker`, and the query parameters."
   ]
  },
  {
   "cell_type": "code",
   "execution_count": null,
   "metadata": {},
   "outputs": [],
   "source": [
    "query = BrokerQuery.objects.create(\n",
    "    name='Test Query',\n",
    "    broker=mars.name,\n",
    "    parameters=mars_form.serialize_parameters()\n",
    ")"
   ]
  },
  {
   "cell_type": "markdown",
   "metadata": {},
   "source": [
    "It's now trivial to simply get the query out of the database, and run it again on MARS:"
   ]
  },
  {
   "cell_type": "code",
   "execution_count": null,
   "metadata": {},
   "outputs": [],
   "source": [
    "query = BrokerQuery.objects.filter(name='Test Query', broker=mars.name)[0]\n",
    "\n",
    "alerts = mars.fetch_alerts(query.parameters_as_dict)\n",
    "print(sum(1 for _ in alerts))"
   ]
  },
  {
   "cell_type": "markdown",
   "metadata": {},
   "source": [
    "With the available alerts from a query, we can convert each of them to a TOM `Target` object and store them in our local TOM DB."
   ]
  },
  {
   "cell_type": "code",
   "execution_count": null,
   "metadata": {},
   "outputs": [],
   "source": [
    "alerts = mars.fetch_alerts(query.parameters_as_dict)\n",
    "for alert in alerts:\n",
    "    mars.to_target(alert)"
   ]
  },
  {
   "cell_type": "markdown",
   "metadata": {},
   "source": [
    "And as expected, we now have as many `Target` objects in our TOM as we had alerts, which can be used for later reference."
   ]
  },
  {
   "cell_type": "code",
   "execution_count": null,
   "metadata": {},
   "outputs": [],
   "source": [
    "from tom_targets.models import Target\n",
    "\n",
    "print(len(Target.objects.all()))"
   ]
  }
 ],
 "metadata": {
  "kernelspec": {
   "display_name": "Django Shell-Plus",
   "language": "python",
   "name": "django_extensions"
  },
  "language_info": {
   "codemirror_mode": {
    "name": "ipython",
    "version": 3
   },
   "file_extension": ".py",
   "mimetype": "text/x-python",
   "name": "python",
   "nbconvert_exporter": "python",
   "pygments_lexer": "ipython3",
   "version": "3.7.4"
  }
 },
 "nbformat": 4,
 "nbformat_minor": 2
}
